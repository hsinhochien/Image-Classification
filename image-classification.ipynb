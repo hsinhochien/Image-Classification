{
 "cells": [
  {
   "cell_type": "code",
   "execution_count": 1,
   "metadata": {},
   "outputs": [],
   "source": [
    "import psycopg2\n",
    "import time\n",
    "import pandas as pd\n",
    "import numpy as np\n",
    "from transformers import AutoFeatureExtractor, AutoModelForImageClassification, TrainingArguments, Trainer\n",
    "from datasets import Dataset, DatasetDict\n",
    "from sklearn.preprocessing import LabelEncoder\n",
    "import torch\n",
    "from torchvision import transforms\n",
    "from PIL import Image\n",
    "import requests\n",
    "from io import BytesIO\n",
    "from sklearn.metrics import accuracy_score, f1_score\n",
    "import matplotlib.pyplot as plt\n",
    "import seaborn as sns\n",
    "from tqdm import tqdm\n",
    "import logging\n",
    "FORMAT = '%(asctime)s [%(levelname)s]: %(message)s'\n",
    "logging.basicConfig(level=logging.INFO, format=FORMAT)\n",
    "\n",
    "\n",
    "train_df = pd.read_csv('train.csv')"
   ]
  },
  {
   "cell_type": "code",
   "execution_count": 5,
   "metadata": {},
   "outputs": [
    {
     "name": "stdout",
     "output_type": "stream",
     "text": [
      "Unique label count: 5\n",
      "Label: 書籍, Count: 304\n",
      "Label: 筆電, Count: 298\n",
      "Label: 平板, Count: 297\n",
      "Label: 智慧型手機, Count: 293\n",
      "Label: 桌上型電腦, Count: 284\n"
     ]
    }
   ],
   "source": [
    "label_counts = train_df['label'].value_counts()\n",
    "    \n",
    "# 列出唯一值的數量\n",
    "print(f\"Unique label count: {len(label_counts)}\")\n",
    "\n",
    "# 列出每個 label 及其對應的數量\n",
    "for label, count in label_counts.items():\n",
    "    print(f\"Label: {label}, Count: {count}\")"
   ]
  },
  {
   "cell_type": "code",
   "execution_count": 6,
   "metadata": {},
   "outputs": [
    {
     "name": "stdout",
     "output_type": "stream",
     "text": [
      "刪除空值後數據集的大小: (1476, 3)\n"
     ]
    }
   ],
   "source": [
    "train_df = train_df.dropna(subset=['image_url'])\n",
    "\n",
    "# 確認是否成功刪除空值行\n",
    "print(f\"刪除空值後數據集的大小: {train_df.shape}\")\n",
    "\n",
    "# 如果需要可以保存處理後的數據\n",
    "train_df.to_csv('train.csv', index=False)"
   ]
  },
  {
   "cell_type": "markdown",
   "metadata": {},
   "source": [
    "### Finetune"
   ]
  },
  {
   "cell_type": "code",
   "execution_count": 7,
   "metadata": {},
   "outputs": [
    {
     "name": "stderr",
     "output_type": "stream",
     "text": [
      "c:\\Users\\hsinho_chien\\AppData\\Local\\anaconda3\\envs\\py3.9\\lib\\site-packages\\transformers\\models\\vit\\feature_extraction_vit.py:28: FutureWarning: The class ViTFeatureExtractor is deprecated and will be removed in version 5 of Transformers. Please use ViTImageProcessor instead.\n",
      "  warnings.warn(\n",
      "Some weights of ViTForImageClassification were not initialized from the model checkpoint at google/vit-base-patch16-224 and are newly initialized because the shapes did not match:\n",
      "- classifier.bias: found shape torch.Size([1000]) in the checkpoint and torch.Size([5]) in the model instantiated\n",
      "- classifier.weight: found shape torch.Size([1000, 768]) in the checkpoint and torch.Size([5, 768]) in the model instantiated\n",
      "You should probably TRAIN this model on a down-stream task to be able to use it for predictions and inference.\n"
     ]
    }
   ],
   "source": [
    "model_name = \"google/vit-base-patch16-224\"\n",
    "\n",
    "feature_extractor = AutoFeatureExtractor.from_pretrained(model_name)\n",
    "model = AutoModelForImageClassification.from_pretrained(model_name, num_labels=len(label_counts), ignore_mismatched_sizes=True)"
   ]
  },
  {
   "cell_type": "code",
   "execution_count": 8,
   "metadata": {},
   "outputs": [
    {
     "data": {
      "application/vnd.jupyter.widget-view+json": {
       "model_id": "ac12661442cb49f7ae0b44cdaf1dd7e1",
       "version_major": 2,
       "version_minor": 0
      },
      "text/plain": [
       "Map:   0%|          | 0/1476 [00:00<?, ? examples/s]"
      ]
     },
     "metadata": {},
     "output_type": "display_data"
    }
   ],
   "source": [
    "transform = transforms.Compose([\n",
    "    transforms.Resize((224, 224)),  # 調整圖片大小至 224x224\n",
    "    transforms.ToTensor(),          # 轉換為 Tensor\n",
    "    transforms.Normalize(mean=feature_extractor.image_mean, std=feature_extractor.image_std)  # 使用模型預訓練的均值和標準差進行標準化\n",
    "])\n",
    "\n",
    "def preprocess_data(examples):\n",
    "    images = []\n",
    "    for img_url in examples['image_url']:\n",
    "        response = requests.get(img_url)\n",
    "        img = Image.open(BytesIO(response.content)).convert(\"RGB\")\n",
    "        images.append(transform(img))\n",
    "    \n",
    "    labels = label_encoder.transform(examples['label'])\n",
    "    return {\"pixel_values\": images, \"labels\": labels}\n",
    "\n",
    "\n",
    "# 加載自訂數據集\n",
    "dataset = Dataset.from_pandas(train_df)\n",
    "\n",
    "label_encoder = LabelEncoder()\n",
    "# 擷取標籤並擬合編碼器\n",
    "label_encoder.fit(dataset['label'])\n",
    "\n",
    "dataset = dataset.map(preprocess_data, batched=True)\n",
    "\n",
    "# 移除不必要的列\n",
    "dataset.set_format(type='torch', columns=['pixel_values', 'labels'])\n",
    "\n",
    "train_test_valid_split = dataset.train_test_split(test_size=0.2) \n",
    "valid_test_split = train_test_valid_split['test'].train_test_split(test_size=0.5)\n",
    "\n",
    "dataset = DatasetDict({\n",
    "    'train': train_test_valid_split['train'], \n",
    "    'valid': valid_test_split['train'],  \n",
    "    'test': valid_test_split['test']  \n",
    "})"
   ]
  },
  {
   "cell_type": "code",
   "execution_count": 9,
   "metadata": {},
   "outputs": [
    {
     "name": "stdout",
     "output_type": "stream",
     "text": [
      "原始 label: 平板 -> encoded: 0\n",
      "原始 label: 智慧型手機 -> encoded: 1\n",
      "原始 label: 書籍 -> encoded: 2\n",
      "原始 label: 桌上型電腦 -> encoded: 3\n",
      "原始 label: 筆電 -> encoded: 4\n"
     ]
    }
   ],
   "source": [
    "for original, encoded in zip(label_encoder.classes_, range(len(label_encoder.classes_))):\n",
    "    print(f\"原始 label: {original} -> encoded: {encoded}\")"
   ]
  },
  {
   "cell_type": "code",
   "execution_count": 10,
   "metadata": {},
   "outputs": [
    {
     "data": {
      "application/vnd.jupyter.widget-view+json": {
       "model_id": "e4fa964505524072861038dfdd18a67a",
       "version_major": 2,
       "version_minor": 0
      },
      "text/plain": [
       "  0%|          | 0/148 [00:00<?, ?it/s]"
      ]
     },
     "metadata": {},
     "output_type": "display_data"
    },
    {
     "data": {
      "application/vnd.jupyter.widget-view+json": {
       "model_id": "a92a0f109bbc415aa4f99dcbcc260428",
       "version_major": 2,
       "version_minor": 0
      },
      "text/plain": [
       "  0%|          | 0/10 [00:00<?, ?it/s]"
      ]
     },
     "metadata": {},
     "output_type": "display_data"
    },
    {
     "name": "stdout",
     "output_type": "stream",
     "text": [
      "{'eval_loss': 0.058206215500831604, 'eval_accuracy': 0.9932432432432432, 'eval_f1_score': 0.9932166513561863, 'eval_runtime': 80.0123, 'eval_samples_per_second': 1.85, 'eval_steps_per_second': 0.125, 'epoch': 1.0}\n"
     ]
    },
    {
     "data": {
      "application/vnd.jupyter.widget-view+json": {
       "model_id": "8456f64d645d43bb81085448e143e08f",
       "version_major": 2,
       "version_minor": 0
      },
      "text/plain": [
       "  0%|          | 0/10 [00:00<?, ?it/s]"
      ]
     },
     "metadata": {},
     "output_type": "display_data"
    },
    {
     "name": "stdout",
     "output_type": "stream",
     "text": [
      "{'eval_loss': 0.03766747564077377, 'eval_accuracy': 0.9932432432432432, 'eval_f1_score': 0.9932693563128344, 'eval_runtime': 67.7046, 'eval_samples_per_second': 2.186, 'eval_steps_per_second': 0.148, 'epoch': 2.0}\n",
      "{'train_runtime': 3592.3494, 'train_samples_per_second': 0.657, 'train_steps_per_second': 0.041, 'train_loss': 0.23142871341189822, 'epoch': 2.0}\n"
     ]
    },
    {
     "data": {
      "text/plain": [
       "TrainOutput(global_step=148, training_loss=0.23142871341189822, metrics={'train_runtime': 3592.3494, 'train_samples_per_second': 0.657, 'train_steps_per_second': 0.041, 'total_flos': 1.8288601280667648e+17, 'train_loss': 0.23142871341189822, 'epoch': 2.0})"
      ]
     },
     "execution_count": 10,
     "metadata": {},
     "output_type": "execute_result"
    }
   ],
   "source": [
    "def compute_metrics(pred):\n",
    "    labels = pred.label_ids\n",
    "    preds = np.argmax(pred.predictions, axis=1)  \n",
    "    accuracy = accuracy_score(labels, preds)\n",
    "\n",
    "    # 計算 F1 Score (加權平均)\n",
    "    f1 = f1_score(labels, preds, average='weighted')\n",
    "\n",
    "    return {\n",
    "        'accuracy': accuracy,\n",
    "        'f1_score': f1\n",
    "    }\n",
    "\n",
    "training_args = TrainingArguments(\n",
    "    output_dir='./results',\n",
    "    eval_strategy=\"epoch\",\n",
    "    save_strategy=\"epoch\",\n",
    "    learning_rate=3e-5,\n",
    "    per_device_train_batch_size=16,\n",
    "    per_device_eval_batch_size=16,\n",
    "    num_train_epochs=2,\n",
    "    weight_decay=0.01,\n",
    "    load_best_model_at_end=True,\n",
    "    metric_for_best_model=\"f1_score\",\n",
    "    greater_is_better=True\n",
    ")\n",
    "\n",
    "trainer = Trainer(\n",
    "    model=model,\n",
    "    args=training_args,\n",
    "    train_dataset=dataset[\"train\"],\n",
    "    eval_dataset=dataset[\"valid\"],\n",
    "    tokenizer=feature_extractor,  \n",
    "    compute_metrics=compute_metrics\n",
    ")\n",
    "\n",
    "# 開始訓練\n",
    "trainer.train()"
   ]
  },
  {
   "cell_type": "code",
   "execution_count": 11,
   "metadata": {},
   "outputs": [],
   "source": [
    "trainer.save_model('./trained_model')"
   ]
  },
  {
   "cell_type": "markdown",
   "metadata": {},
   "source": [
    "### inference"
   ]
  },
  {
   "cell_type": "code",
   "execution_count": 12,
   "metadata": {},
   "outputs": [
    {
     "name": "stderr",
     "output_type": "stream",
     "text": [
      "c:\\Users\\hsinho_chien\\AppData\\Local\\anaconda3\\envs\\py3.9\\lib\\site-packages\\transformers\\models\\vit\\feature_extraction_vit.py:28: FutureWarning: The class ViTFeatureExtractor is deprecated and will be removed in version 5 of Transformers. Please use ViTImageProcessor instead.\n",
      "  warnings.warn(\n"
     ]
    }
   ],
   "source": [
    "from transformers import pipeline\n",
    "\n",
    "model = AutoModelForImageClassification.from_pretrained('./trained_model')\n",
    "feature_extractor = AutoFeatureExtractor.from_pretrained('./trained_model')\n",
    "\n",
    "classifier = pipeline(\"image-classification\", model=model, feature_extractor=feature_extractor)"
   ]
  },
  {
   "cell_type": "markdown",
   "metadata": {},
   "source": [
    "confusion matrix"
   ]
  },
  {
   "cell_type": "code",
   "execution_count": 13,
   "metadata": {},
   "outputs": [
    {
     "name": "stderr",
     "output_type": "stream",
     "text": [
      "100%|██████████| 148/148 [01:14<00:00,  1.98it/s]\n"
     ]
    }
   ],
   "source": [
    "from sklearn.metrics import confusion_matrix\n",
    "\n",
    "true_labels = dataset['test']['label']\n",
    "pred_labels = []\n",
    "\n",
    "for img_url in tqdm(dataset['test']['image_url'], total=len(dataset['test'])):\n",
    "    result = classifier(img_url)\n",
    "    \n",
    "    # 根據預測結果獲取分數最高的標籤\n",
    "    predicted_label_index = np.argmax([re['score'] for re in result])\n",
    "    predicted_label_id = result[predicted_label_index]['label']\n",
    "    \n",
    "    # 將模型的預測標籤ID轉換回原始標籤ID\n",
    "    predicted_label_id = model.config.label2id[predicted_label_id]\n",
    "    original_label = label_encoder.inverse_transform([predicted_label_id])[0]\n",
    "    \n",
    "    pred_labels.append(original_label)\n",
    "\n",
    "# 計算混淆矩陣\n",
    "conf_matrix = confusion_matrix(true_labels, pred_labels)"
   ]
  },
  {
   "cell_type": "code",
   "execution_count": 14,
   "metadata": {},
   "outputs": [
    {
     "data": {
      "image/png": "[encoded data removed]",
      "text/plain": [
       "<Figure size 1000x700 with 2 Axes>"
      ]
     },
     "metadata": {},
     "output_type": "display_data"
    }
   ],
   "source": [
    "# 繪製混淆矩陣\n",
    "plt.figure(figsize=(10, 7))\n",
    "sns.heatmap(conf_matrix, annot=True, fmt=\"d\", cmap=\"Blues\", xticklabels=np.arange(4), yticklabels=np.arange(4))\n",
    "plt.title('Confusion Matrix')\n",
    "plt.xlabel('Predicted Label')\n",
    "plt.ylabel('True Label')\n",
    "plt.show()"
   ]
  },
  {
   "cell_type": "code",
   "execution_count": null,
   "metadata": {},
   "outputs": [],
   "source": []
  }
 ],
 "metadata": {
  "kernelspec": {
   "display_name": "py3.9",
   "language": "python",
   "name": "python3"
  },
  "language_info": {
   "codemirror_mode": {
    "name": "ipython",
    "version": 3
   },
   "file_extension": ".py",
   "mimetype": "text/x-python",
   "name": "python",
   "nbconvert_exporter": "python",
   "pygments_lexer": "ipython3",
   "version": "3.9.19"
  }
 },
 "nbformat": 4,
 "nbformat_minor": 2
}
